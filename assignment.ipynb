{
  "nbformat": 4,
  "nbformat_minor": 0,
  "metadata": {
    "colab": {
      "provenance": []
    },
    "kernelspec": {
      "name": "python3",
      "display_name": "Python 3"
    },
    "language_info": {
      "name": "python"
    }
  },
  "cells": [
    {
      "cell_type": "markdown",
      "source": [
        "# Python Basics Assignment\n"
      ],
      "metadata": {
        "id": "jDoUpfjCVsMW"
      }
    },
    {
      "cell_type": "markdown",
      "source": [
        "1. What is Python, and why is it popular\n",
        "- python is an open source high level interpreted programming language that works on the object oriented programming language,it was developed by guido van rossum in 1991.\n",
        "\n",
        "- Python is popular for its easy to learn and simple syntax it also has a very large set of library such as numpy, pandas,matplotlib etc which play an vital role for data analysis and making it quite popular in the data analytics industry.\n",
        "Python has an large community world wide.\n"
      ],
      "metadata": {
        "id": "ClYLVZdpV7ez"
      }
    },
    {
      "cell_type": "markdown",
      "source": [],
      "metadata": {
        "id": "vvvrYqLqXOud"
      }
    },
    {
      "cell_type": "markdown",
      "source": [
        "2.What is an interpreter in Python\n",
        "- Python is an interpreted language which means python programs are executed in an line by line compilation and its slower compared to other languages who follow compilation of the program for an output but debugging is comparatively easier in python since it instantaneously detects an error and makes it easier for the debugging.\n",
        "\n",
        "3.What are pre-defined keywords in Python\n",
        "- Python pre defined keywords refer to the primitive methods in python which are already inbuilt in the python code with its features.<br>\n",
        "ex: <br>print() which is used for printing an statements\n",
        "input() for receiving inputs from the user such like def,class,return are all predefined keywords in python\n",
        "\n",
        "4.Can keywords be used as variable names\n",
        "- Yes keywords can be used to be defined as an variable but highly discouraged to since it effects the future use of that keywords since it will no longer be available for its designed function or desired use<br>\n",
        "ex: <br>print=5\n",
        "print(print)<br>\n",
        "this example effectively how using keywords as an variable can be disadvantageous for any future course of use in this example the print statement will throw an error since print is defined as an variable and it can no longer be used as an printing statement.\n",
        "\n",
        "5.What is mutability in Python\n",
        "- Mutability in python refers to the ability to change an variable or manipulate the data in it.<br>\n",
        "ex:<br> list is an mutable datatype in python which can be manipulated multiple times once created.<br>\n",
        "lst=[1,4.6,'hi',6+2j]<br>\n",
        "print(lst)//this would give 1,4.6,'hi',6+2j<br>\n",
        "lst.append(2)<br>\n",
        "// this would add an element 2 at the last\n",
        "1,4.6,'hi',6+2j,2\n",
        "<br>in summary mutability refers to the versatality of an data type to adapt with new changes whic is an opposite to immutable\n",
        "\n",
        "6.Why are lists mutable, but tuples are immutable\n",
        "- Lists in python are specifically designed for flexibility and versatility for the user where he needs regular modifications,deletion,creation etc This makes List slower compared to a tuple since Lists store variable reference and extra storage for future needs.\n",
        "- Tuples in python are designed to be static information which also cannot be modifed once created as it is designed with permanent block of code with fixed storage which also makes this faster than list,tuples are best for fixed information<br>\n",
        "ex: Adhaar card number or PAN card id which once created for an citizen can not be altered again.\n",
        "\n",
        "7.What is the difference between “==” and “is” operators in Python\n",
        "- the '==' is referred as is equals to keyword\n",
        "it is an comparison operator in used to compare two operands,it compares two variables to have exact same values which then returns the result in boolean values in default.<br>\n",
        "ex:<br> a=5\n",
        "b=5<br>\n",
        "print(a==b)  //outputs as True\n",
        "\n",
        "- the 'is' keyword is similar to the '==' keyword but theoritically has a different meaning as it is used to find memomry allocation of two variable while both the variables might have same values or data but if they are not saved on the same path the it is considered as False,'is' keyword is basically used for the identification or relation of two variables as in the following example.\n",
        "ex: <br> a=[4,5,6,7]\n",
        "<br>b=a<br>\n",
        "print(a is b) //True<br>\n",
        "b=5<br>\n",
        "a=5<br>\n",
        "print(b is a) //False\n",
        "\n",
        "8.What are logical operators in Python\n",
        "- Logical operators in python are used to combine two or more conditions which in default returns in boolean values True or False.<br> There are three types of logical operators they are:\n",
        "-AND OPERATOR: These are used to check two statements and results are declared true only if both the conditions meet the requirements or else it throws back False.<br> ex: a=11<br>b=22<br>\n",
        "print(a>10 AND b>20) //True\n",
        "-OR OPERATOR: This operator is used to compare the arguments and returns the statement as True if any one of the condition is met else it throws False it can be used in a condition where if any one of the argument is met to continue a process<br>ex:<br>a=11<br>b=22<br>print(a>20 OR b>20) //since one of the condition is met it will produce True as its output.\n",
        "-NOT OPERATOR:The Not operator sometimes also referred to as negation or used '!' evaluates an condition in opposite values for example:\n",
        "a=10 <br>print (NOT a>20)// answers in default boolean data type as True.\n",
        "\n",
        "9.What is type casting in Python\n",
        "- Type casting in python is a process of converting a datatype into another desired datatype but there are few exception such like.<br> a string cannot be converted into int or float data type.\n",
        "<br> a=['ajay']\n",
        "int(a)//this will throw an error\n",
        "<br> some possible type casting are:\n",
        "<br> 1. int to float\n",
        "<br>  a=10\n",
        "float(a)//this will return 10.00\n",
        "<br>2.str to int\n",
        "<br> a='45'\n",
        "int(a) //this will return 10 as integer\n",
        "<br>3.float to int\n",
        "<br> a=10.56\n",
        "int(a)//this will remove any value after the decimal point and rounding off to nearest possible value is not possible and may lead to some loss of potential data.\n",
        "10. What is the difference between implicit and explicit type casting\n",
        "- Explicit type casting refers to the creation of an object in programming language that requires a specific declaration about its data type and any other data types is not supported it gives strict and rigid program. for example:<br>\n",
        "a bank needs user to create an password with only integer data type but the user uses words as this will throw an error and will maintain the banks password regulations.\n",
        "<br> some languages using this method is C,C++,JAVA\n",
        "- Implicit type casting is an feature of programming language where specific datatype declaration is not necessary since the programming language may itself assume the datatype and store accordingly.<br>ex: Python uses Implicit datatype and it does not take any extra particular declaration.<br>\n",
        "a=50<br>type(a)//this will display integer datatype.\n",
        "\n",
        "11.What is the purpose of conditional statements in Python\n",
        "\n",
        "-Conditional statements in Python are one of the most important foundation to present any arguments or conditions inside of it.they are also called as decision making statements as they mainly help in making decisions<br> basically there are 5 types of conditional statements:\n",
        "<br>1.if statement: in this a set of conditions are given if the conditions are met the statement is executed or else nothing happens.\n",
        "2.if-else statement: in this an alternate default statement is given to the program when any of the previous conditions are not met it proceeds with the else statement at last.\n",
        "3.if-elif-else\n",
        "4.nested if-else statements.\n",
        "5.switch statements.\n",
        "\n",
        "12.How does the elif statement work?\n",
        "- elif statement is an conditional statement which lets you have multiple sequential arguments or conditions.It alows you to pass multiple possible statements to conclude.<br>ex: a=99<br>\n",
        "if a>90:<br>\n",
        "print('A GRADE')<br>\n",
        "elif a>=60:<br>\n",
        "print('B GRADE')<br>\n",
        "elif a>=40:<br>\n",
        "print('C GRADE')<br>\n",
        "else:<br>\n",
        "print('FAILED')\n",
        "<br>\n",
        "13. What is the difference between for and while loops?\n",
        "-The basic difference between a for loop and a while loop can be said as:\n",
        "<br> a for loop iterates over a sequence of elements till the very end defined in a function.\n",
        "<br>ex: a='kamran'\n",
        "<br>for i in (a):\n",
        "<br>print(i) // this would print<br>'k'<br>'a'<br>'m'<br>'r'<br>'a'<br>'n'<br>.\n",
        "a for loop iterates over a sequence till it ends.\n",
        "- A while loop on the other hand is quite similar to a for loop but has a different purpose to achieve.<br>a while loop is designed to iterate over a sequence till its proven True.<br>ex: n=5\n",
        "<br>while n<=10://setting limit for the sequence\n",
        "print(n)\n",
        "n=n+1 //defining the logic\n",
        "<br> the above example is an classic way of understanding a while loop statement.\n",
        "<br>\n",
        "14. Describe a scenario where a while loop is more suitable than a for loop.\n",
        "\n",
        "- a practical and real world example for using the while loop would be in a verification system for example OTP verification with an maximum attempt of 3.\n",
        "it can be written as follows:<br>\n",
        "attempt=0<br>\n",
        "password='kamran123'<br>\n",
        "while attempt<=2:<br>\n",
        "  ap=input('enter password')<br>\n",
        "  attempt+=1<br>\n",
        "  if ap==password:<br>\n",
        "    print('Pass')<br>\n",
        "     break<br>\n",
        "  else:<br>\n",
        "   <t> print('Failed')\n"
      ],
      "metadata": {
        "id": "uGqlwdPg9BRj"
      }
    },
    {
      "cell_type": "markdown",
      "source": [
        "#Practical Questions"
      ],
      "metadata": {
        "id": "o9vKG_AvVxE6"
      }
    },
    {
      "cell_type": "markdown",
      "source": [
        "1.Write a Python program to print \"Hello, World!"
      ],
      "metadata": {
        "id": "4CF8PxUeam1u"
      }
    },
    {
      "cell_type": "code",
      "source": [
        "print('Hello World!')"
      ],
      "metadata": {
        "colab": {
          "base_uri": "https://localhost:8080/"
        },
        "id": "w1a8syq0ahB3",
        "outputId": "08bc0a55-bdc0-4a79-e32e-1f489116d6bf"
      },
      "execution_count": null,
      "outputs": [
        {
          "output_type": "stream",
          "name": "stdout",
          "text": [
            "Hello World!\n"
          ]
        }
      ]
    },
    {
      "cell_type": "markdown",
      "source": [
        "2.Write a Python program that displays your name and age"
      ],
      "metadata": {
        "id": "13tHZjI4auhl"
      }
    },
    {
      "cell_type": "code",
      "source": [
        "name='Kamran'\n",
        "age=22\n",
        "print('My name is',name,'and my age is',age)"
      ],
      "metadata": {
        "colab": {
          "base_uri": "https://localhost:8080/"
        },
        "id": "aJtHKvv6auuQ",
        "outputId": "06e92ab1-7a4e-4e67-9cda-ad6cabee7fdd"
      },
      "execution_count": null,
      "outputs": [
        {
          "output_type": "stream",
          "name": "stdout",
          "text": [
            "My name is Kamran and my age is 22\n"
          ]
        }
      ]
    },
    {
      "cell_type": "markdown",
      "source": [
        "3.Write code to print all the pre-defined keywords in Python using the keyword library."
      ],
      "metadata": {
        "id": "0Id0nmiW33LF"
      }
    },
    {
      "cell_type": "code",
      "source": [
        "import keyword\n",
        "print(keyword.kwlist)"
      ],
      "metadata": {
        "colab": {
          "base_uri": "https://localhost:8080/"
        },
        "id": "AzLUyEIX37k3",
        "outputId": "edfb0112-3fac-4cc2-a912-7f5ecf8185f2"
      },
      "execution_count": 1,
      "outputs": [
        {
          "output_type": "stream",
          "name": "stdout",
          "text": [
            "['False', 'None', 'True', 'and', 'as', 'assert', 'async', 'await', 'break', 'class', 'continue', 'def', 'del', 'elif', 'else', 'except', 'finally', 'for', 'from', 'global', 'if', 'import', 'in', 'is', 'lambda', 'nonlocal', 'not', 'or', 'pass', 'raise', 'return', 'try', 'while', 'with', 'yield']\n"
          ]
        }
      ]
    },
    {
      "cell_type": "markdown",
      "source": [
        "4. Write a program that checks if a given word is a Python keyword"
      ],
      "metadata": {
        "id": "NMsGDwdV4URH"
      }
    },
    {
      "cell_type": "code",
      "source": [
        "import keyword\n",
        "print(keyword.iskeyword('if'))"
      ],
      "metadata": {
        "colab": {
          "base_uri": "https://localhost:8080/"
        },
        "id": "seDnsuyC4Ugq",
        "outputId": "8094e00c-497b-4d69-ea0f-6210b6a42e39"
      },
      "execution_count": 2,
      "outputs": [
        {
          "output_type": "stream",
          "name": "stdout",
          "text": [
            "True\n"
          ]
        }
      ]
    },
    {
      "cell_type": "markdown",
      "source": [
        "5. Create a list and tuple in Python, and demonstrate how attempting to change an element works differently\n",
        "for each."
      ],
      "metadata": {
        "id": "VuISA-VW4hrj"
      }
    },
    {
      "cell_type": "code",
      "source": [
        "lst=['kamran',5,True,45.09,6+8j]\n",
        "tp=('khan',78,False,8.9,6+9j)"
      ],
      "metadata": {
        "id": "KmvTs7mT4hy2"
      },
      "execution_count": 4,
      "outputs": []
    },
    {
      "cell_type": "code",
      "source": [
        "lst[0]='ajay'\n",
        "print(lst)"
      ],
      "metadata": {
        "colab": {
          "base_uri": "https://localhost:8080/"
        },
        "id": "swDYt8AI5AFe",
        "outputId": "cb39808f-8d78-4e52-ca0c-e3b01364a2da"
      },
      "execution_count": 5,
      "outputs": [
        {
          "output_type": "stream",
          "name": "stdout",
          "text": [
            "['ajay', 5, True, 45.09, (6+8j)]\n"
          ]
        }
      ]
    },
    {
      "cell_type": "code",
      "source": [
        "tp[0]='kamran'"
      ],
      "metadata": {
        "colab": {
          "base_uri": "https://localhost:8080/",
          "height": 141
        },
        "id": "MiOuSXEB5Iky",
        "outputId": "31f636a1-0028-447d-86ef-f20b59c118d6"
      },
      "execution_count": 6,
      "outputs": [
        {
          "output_type": "error",
          "ename": "TypeError",
          "evalue": "'tuple' object does not support item assignment",
          "traceback": [
            "\u001b[0;31m---------------------------------------------------------------------------\u001b[0m",
            "\u001b[0;31mTypeError\u001b[0m                                 Traceback (most recent call last)",
            "\u001b[0;32m<ipython-input-6-9005d45b4d1f>\u001b[0m in \u001b[0;36m<cell line: 0>\u001b[0;34m()\u001b[0m\n\u001b[0;32m----> 1\u001b[0;31m \u001b[0mtp\u001b[0m\u001b[0;34m[\u001b[0m\u001b[0;36m0\u001b[0m\u001b[0;34m]\u001b[0m\u001b[0;34m=\u001b[0m\u001b[0;34m'kamran'\u001b[0m\u001b[0;34m\u001b[0m\u001b[0;34m\u001b[0m\u001b[0m\n\u001b[0m",
            "\u001b[0;31mTypeError\u001b[0m: 'tuple' object does not support item assignment"
          ]
        }
      ]
    },
    {
      "cell_type": "markdown",
      "source": [
        "6. Write a function to demonstrate the behavior of mutable and immutable arguments."
      ],
      "metadata": {
        "id": "Ch3pA4v85Pya"
      }
    },
    {
      "cell_type": "code",
      "source": [
        "def change(str_imm,lst_mut):\n",
        "  print('before change',str_imm)\n",
        "  print('before change',lst_mut)\n",
        "  str_imm='hello'\n",
        "  lst_mut.append(100)\n",
        "  print('after changes inside the function',str_imm)\n",
        "  print('after changes inside the function',lst_mut)\n",
        "str='hi'\n",
        "lst=[5,7,8,9]\n",
        "change(str,lst)\n",
        "print('final output',str)\n",
        "print('final output',lst)"
      ],
      "metadata": {
        "colab": {
          "base_uri": "https://localhost:8080/"
        },
        "id": "6p7HiQqC5P9W",
        "outputId": "d458a158-76a9-4287-fbfe-81335ce0920c"
      },
      "execution_count": 22,
      "outputs": [
        {
          "output_type": "stream",
          "name": "stdout",
          "text": [
            "before change hi\n",
            "before change [5, 7, 8, 9]\n",
            "after changes inside the function hello\n",
            "after changes inside the function [5, 7, 8, 9, 100]\n",
            "final output hi\n",
            "final output [5, 7, 8, 9, 100]\n"
          ]
        }
      ]
    },
    {
      "cell_type": "markdown",
      "source": [
        "8. Write a program to demonstrate the use of logical operators."
      ],
      "metadata": {
        "id": "uJhODW8F-YOC"
      }
    },
    {
      "cell_type": "code",
      "source": [
        "a=True\n",
        "b=False\n",
        "print(a and b)\n",
        "print(a or b)\n",
        "print(not b)\n",
        "print(not a)"
      ],
      "metadata": {
        "colab": {
          "base_uri": "https://localhost:8080/"
        },
        "id": "Hi9EzFkw-Ym8",
        "outputId": "402bb419-198d-4dd8-e081-5bb1bee4615c"
      },
      "execution_count": 8,
      "outputs": [
        {
          "output_type": "stream",
          "name": "stdout",
          "text": [
            "False\n",
            "True\n",
            "True\n",
            "False\n"
          ]
        }
      ]
    },
    {
      "cell_type": "markdown",
      "source": [
        "9. Write a Python program to convert user input from string to integer, float, and boolean types"
      ],
      "metadata": {
        "id": "chod8vYI29ZO"
      }
    },
    {
      "cell_type": "code",
      "source": [
        "def convert(df):\n",
        "  df_int=int(df)\n",
        "  print(df_int)\n",
        "  df_float=float(df)\n",
        "  print(df_float)\n",
        "  df_bool=bool(df)\n",
        "  print(df_bool)\n",
        "data=input('enter a value')\n",
        "convert(data)"
      ],
      "metadata": {
        "colab": {
          "base_uri": "https://localhost:8080/"
        },
        "id": "iqCDJ-fN29nG",
        "outputId": "7bba97f5-11ec-49d1-d6f1-053006b4a5d6"
      },
      "execution_count": 18,
      "outputs": [
        {
          "output_type": "stream",
          "name": "stdout",
          "text": [
            "enter a value980\n",
            "980\n",
            "980\n",
            "980.0\n",
            "True\n"
          ]
        }
      ]
    },
    {
      "cell_type": "markdown",
      "source": [
        "10. Write code to demonstrate type casting with list elements."
      ],
      "metadata": {
        "id": "-wtwosqu6wAU"
      }
    },
    {
      "cell_type": "code",
      "source": [
        "lst=['56','89.09','5+8j','True','False','Hello']\n",
        "print(int(lst[0]))\n",
        "print(float(lst[1]))\n",
        "print(complex(lst[2]))\n",
        "print(bool(lst[3]))\n",
        "print(bool(lst[4]))\n",
        "print(str(lst[5]))"
      ],
      "metadata": {
        "colab": {
          "base_uri": "https://localhost:8080/"
        },
        "id": "V876Ha-J60bt",
        "outputId": "94e2ba0e-1fe0-4708-96a8-fcf1206a0364"
      },
      "execution_count": 20,
      "outputs": [
        {
          "output_type": "stream",
          "name": "stdout",
          "text": [
            "56\n",
            "89.09\n",
            "(5+8j)\n",
            "True\n",
            "True\n",
            "Hello\n"
          ]
        }
      ]
    },
    {
      "cell_type": "markdown",
      "source": [
        "11. Write a program that checks if a number is positive, negative, or zero."
      ],
      "metadata": {
        "id": "dEOFyxEs7q3f"
      }
    },
    {
      "cell_type": "code",
      "source": [
        "num=int(input('enter a value'))\n",
        "if num<0:\n",
        "  print('negative')\n",
        "elif num==0:\n",
        "  print('zero')\n",
        "elif num>0:\n",
        "  print('positive')\n",
        "else:\n",
        "  print('Invalid Input')"
      ],
      "metadata": {
        "colab": {
          "base_uri": "https://localhost:8080/"
        },
        "id": "_blihrh97rF7",
        "outputId": "aa10c326-b26d-4be3-c1de-2886cd1030aa"
      },
      "execution_count": 23,
      "outputs": [
        {
          "output_type": "stream",
          "name": "stdout",
          "text": [
            "enter a value-5\n",
            "negative\n"
          ]
        }
      ]
    },
    {
      "cell_type": "markdown",
      "source": [
        "12. Write a for loop to print numbers from 1 to 10"
      ],
      "metadata": {
        "id": "b4mz07R5BSn-"
      }
    },
    {
      "cell_type": "code",
      "source": [
        "num=1\n",
        "while num<=10:\n",
        "  print(num)\n",
        "  num+=1"
      ],
      "metadata": {
        "colab": {
          "base_uri": "https://localhost:8080/"
        },
        "id": "KwyV-4BcBSxP",
        "outputId": "3e00a88b-450c-4d32-d4e8-45c784dff6c5"
      },
      "execution_count": 25,
      "outputs": [
        {
          "output_type": "stream",
          "name": "stdout",
          "text": [
            "1\n",
            "2\n",
            "3\n",
            "4\n",
            "5\n",
            "6\n",
            "7\n",
            "8\n",
            "9\n",
            "10\n"
          ]
        }
      ]
    },
    {
      "cell_type": "markdown",
      "source": [
        "13. Write a Python program to find the sum of all even numbers between 1 and 50"
      ],
      "metadata": {
        "id": "Leqcfy8JBllS"
      }
    },
    {
      "cell_type": "code",
      "source": [
        "sum_even = 0\n",
        "for i in range(1, 50):  # Loop from 1 to 49\n",
        "    if i % 2 == 0:  # Check if number is even\n",
        "        sum_even += i  # Add even number to sum\n",
        "\n",
        "print(\"Sum of even numbers between 1 and 50:\", sum_even)\n"
      ],
      "metadata": {
        "colab": {
          "base_uri": "https://localhost:8080/"
        },
        "id": "z3nwqwa0BlxL",
        "outputId": "13bb061b-c2d3-4caa-99d8-0290fb7bbb13"
      },
      "execution_count": 30,
      "outputs": [
        {
          "output_type": "stream",
          "name": "stdout",
          "text": [
            "Sum of even numbers between 1 and 50: 600\n"
          ]
        }
      ]
    },
    {
      "cell_type": "markdown",
      "source": [
        "14. Write a program to reverse a string using a while loop"
      ],
      "metadata": {
        "id": "mFSvU1ZQDh8f"
      }
    },
    {
      "cell_type": "code",
      "source": [
        "def reverse_string(text):\n",
        "    result = \"\"\n",
        "    i = len(text) - 1\n",
        "    while i >= 0:\n",
        "        result += text[i]\n",
        "        i -= 1\n",
        "    return result\n",
        "\n",
        "print(reverse_string(\"Kamran\"))"
      ],
      "metadata": {
        "colab": {
          "base_uri": "https://localhost:8080/"
        },
        "id": "iij4KfZLDiGX",
        "outputId": "1da03e79-896f-48b1-a29b-1fa8fe8c8901"
      },
      "execution_count": 38,
      "outputs": [
        {
          "output_type": "stream",
          "name": "stdout",
          "text": [
            "narmaK\n"
          ]
        }
      ]
    },
    {
      "cell_type": "markdown",
      "source": [
        "15. Write a Python program to calculate the factorial of a number provided by the user using a while loop."
      ],
      "metadata": {
        "id": "L-pYY7k5J4MA"
      }
    },
    {
      "cell_type": "code",
      "source": [
        "num=int(input('enter a number'))\n",
        "fac=1\n",
        "while num>0:\n",
        "  fac *=num\n",
        "  num-=1\n",
        "print('Factorial',fac)"
      ],
      "metadata": {
        "colab": {
          "base_uri": "https://localhost:8080/"
        },
        "id": "n2k70HJ1J4XZ",
        "outputId": "53096787-79b0-4271-ce51-77ccf927cea1"
      },
      "execution_count": 40,
      "outputs": [
        {
          "output_type": "stream",
          "name": "stdout",
          "text": [
            "enter a number5\n",
            "Factorial 120\n"
          ]
        }
      ]
    }
  ]
}